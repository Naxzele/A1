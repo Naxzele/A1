{
 "cells": [
  {
   "cell_type": "code",
   "execution_count": 1,
   "metadata": {},
   "outputs": [],
   "source": [
    "import pandas as pd\n",
    "import matplotlib.pyplot as plt\n",
    "from sklearn.model_selection import train_test_split\n",
    "import numpy as np\n",
    "import seaborn as sns\n",
    "import missingno as msno\n",
    "import plotly.express as px # plotting geo data\n",
    "from sklearn.covariance import EllipticEnvelope\n",
    "from sklearn.ensemble import IsolationForest\n",
    "from sklearn.cluster import KMeans\n",
    "from sklearn.neighbors import KNeighborsClassifier\n",
    "from sklearn.model_selection import cross_val_score\n",
    "from sklearn.impute import KNNImputer\n",
    "from sklearn.preprocessing import StandardScaler\n",
    "import xgboost as xgb\n",
    "from sklearn.feature_selection import mutual_info_regression\n",
    "from sklearn.decomposition import PCA\n",
    "import autofeat\n",
    "import osmnx as ox\n",
    "import geopandas as gpd\n",
    "\n",
    "from Own_imputers import PriorityGroupImputer\n",
    "from OwnFeatEng import feature_engineering, feature_selection\n",
    "from OwnDimRed import PCA_num"
   ]
  },
  {
   "cell_type": "markdown",
   "metadata": {},
   "source": [
    "# Train"
   ]
  },
  {
   "cell_type": "markdown",
   "metadata": {},
   "source": [
    "## Data"
   ]
  },
  {
   "cell_type": "code",
   "execution_count": 2,
   "metadata": {},
   "outputs": [],
   "source": [
    "data = pd.read_csv(\"train.csv\", header=0)\n",
    "data = data.drop(columns=['is_promoted','sticker','price_drop_date'])\n",
    "\n",
    "train, test = train_test_split(data,test_size=0.2, shuffle=True)"
   ]
  },
  {
   "cell_type": "code",
   "execution_count": 15,
   "metadata": {},
   "outputs": [],
   "source": [
    "type_map = {\n",
    "    'energy_label': 'category',\n",
    "    'postcode': 'category',\n",
    "    'advertiser' : 'category',\n",
    "    'province' : 'category', \n",
    "    'house_type' : 'category',\n",
    "    'subtype' : 'category',\n",
    "    'new_building': 'bool'\n",
    "}\n",
    "\n",
    "house_map = {\n",
    "    'Apartments & Flats': [\n",
    "        'Appartement', 'Gelijkvloers app.', 'Duplex', 'Triplex', 'Dakappartement',\n",
    "        'Penthouse', 'Serviceflat', 'Assistentie-appartement', 'Studio', 'Studio met slaaphoek', \n",
    "        'App. vrij beroep', 'Appartementsgebouw'\n",
    "    ],\n",
    "    'Single-Family Houses': [\n",
    "        'Eengezinswoning', 'Woning', 'Villa', 'Villa-landhuis', 'Moderne villa',\n",
    "        'Cottage', 'Bungalow', 'Koppelwoning', 'Koppelvilla', 'Hoekwoning', 'Rijwoning', 'Bel-étage', 'Burgerswoning'\n",
    "    ],\n",
    "    'Historical & Luxurious Homes': [\n",
    "        'Herenhuis', 'Herenwoning', 'Uitzonderlijke woning', 'Kasteel', 'Pastorijwoning'\n",
    "    ],\n",
    "    'Farm & Rural Houses': [\n",
    "        'Hoeve', 'Boerderij', 'Fermette', 'Chalet'\n",
    "    ],\n",
    "    'Mixed-Use & Unique Properties': [\n",
    "        'Gemengd gebruik', 'Arbeiderswoning', 'Kangoeroewoning', 'Woonboot', 'Loft',\n",
    "        'Split-level', 'Patio woning', 'Buitenverblijf', 'Vakantiewoning'\n",
    "    ]\n",
    "}\n",
    "\n",
    "# Function to categorize houses\n",
    "def categorize_house(house_type):\n",
    "    for category, types in house_map.items():\n",
    "        if house_type in types:\n",
    "            return category\n",
    "    return 'Other'\n",
    "\n",
    "postcode_list = pd.read_csv(\"BE.txt\", sep=\"\\t\", header=None)[[1,9,10]]\n",
    "postcode_list.columns = ['postcode','lat','lon']\n",
    "postcode_list['postcode']=postcode_list['postcode'].astype('category')\n",
    "postcode_list = postcode_list.groupby('postcode', observed=False)[['lat','lon']].mean()\n",
    "\n",
    "class preprocess:\n",
    "    def __init__(self, postcode_source=None, type_map = {}):\n",
    "        self.subtype_imputer = PriorityGroupImputer(target_cols=['subtype'], priority_groups = {1:['bedrooms_cat']}, strategy = 'mode')\n",
    "        self.geo_imputer = PriorityGroupImputer(target_cols=['lat','lon'], priority_groups = {1:['postcode']}, strategy = 'external', data_source=postcode_source)\n",
    "        self.clf_geo = EllipticEnvelope(contamination=0.0002, support_fraction=0.9)\n",
    "        self.clf_area = EllipticEnvelope(contamination=0.0002, support_fraction=0.9)\n",
    "        self.area_imputer = PriorityGroupImputer(target_cols=['area'], priority_groups = {1:['bedrooms_cat','house_type'], 2:['bedrooms_cat']}, strategy = 'median')\n",
    "        self.ev_imputer_median = PriorityGroupImputer(target_cols=['energy_value'], priority_groups = {1:['energy_label','province']}, strategy = 'median', fallback=True)\n",
    "        self.type_map = type_map\n",
    "        self.belgium_polygon = ox.geocode_to_gdf(\"Belgium\").geometry.iloc[0]\n",
    "    \n",
    "    def missing_checker(self, df):\n",
    "            missing_values = round(df.isna().sum()/len(df)*100,2)\n",
    "            missing_checker_df = df.isna()*1\n",
    "            missing_checker_df = missing_checker_df.drop(columns=missing_values.index[missing_values==0].tolist())\n",
    "            missing_checker_df = missing_checker_df.add_suffix('_miss')\n",
    "            missing_checker_df = (missing_checker_df==1)\n",
    "            return missing_checker_df\n",
    "\n",
    "    def train(self, df):\n",
    "        missing = self.missing_checker(df)\n",
    "        \n",
    "        df['bedrooms_cat'] = pd.cut(df['bedrooms'], bins=[-1,0,1,2,3,4,5,6,float('inf')], labels=['0','1','2','3','4','5','6','7+'])\n",
    "        df['house_type'] = df['subtype'].apply(categorize_house)\n",
    "\n",
    "        df = self.subtype_imputer.fit_transform(df)\n",
    "\n",
    "        gdf = gpd.GeoDataFrame(\n",
    "            df,\n",
    "            geometry=gpd.points_from_xy(df['lon'], df['lat']),\n",
    "            crs=\"EPSG:4326\"\n",
    "            )\n",
    "        in_belgium_mask = gdf.geometry.within(self.belgium_polygon)\n",
    "        df['lat'] = np.where(in_belgium_mask, df['lat'], np.nan)\n",
    "        df['lon'] = np.where(in_belgium_mask, df['lon'], np.nan)\n",
    "\n",
    "        df = self.geo_imputer.fit_transform(df)\n",
    "\n",
    "        # outliers_geo = self.clf_geo.fit_predict(df[['lat','lon']])\n",
    "        # df['lat'] = df['lat'].where((df['lat']<52) & (df['lat']>49), np.nan)\n",
    "        # df['lon'] = df['lon'].where((df['lon']<8) & (df['lat']>2), np.nan)\n",
    "        \n",
    "        # df = self.geo_imputer.transform(df)\n",
    "\n",
    "\n",
    "        outliers_area = self.clf_area.fit_predict(df[['area']].dropna())\n",
    "        df['area'] = df['area'].where(~df['id'].isin(df[['area','id']].dropna()[outliers_area==-1]['id']), np.nan)\n",
    "        df = self.area_imputer.fit_transform(df)\n",
    "        \n",
    "        df = self.ev_imputer_median.fit_transform(df)\n",
    "        \n",
    "        df = pd.concat([df, missing], axis=1)\n",
    "        df['advertiser'] = df['advertiser'].fillna('Other')\n",
    "\n",
    "        df = df.astype(self.type_map)\n",
    "        return df\n",
    "\n",
    "    def test(self, df):   \n",
    "        missing = self.missing_checker(df)\n",
    "        \n",
    "        df['bedrooms_cat'] = pd.cut(df['bedrooms'], bins=[-1,0,1,2,3,4,5,6,float('inf')], labels=['0','1','2','3','4','5','6','7+'])\n",
    "        df['house_type'] = df['subtype'].apply(categorize_house)\n",
    "\n",
    "        df = self.subtype_imputer.transform(df)\n",
    "        \n",
    "        gdf = gpd.GeoDataFrame(\n",
    "            df,\n",
    "            geometry=gpd.points_from_xy(df['lon'], df['lat']),\n",
    "            crs=\"EPSG:4326\"\n",
    "            )\n",
    "        \n",
    "        in_belgium_mask = gdf.geometry.within(self.belgium_polygon)\n",
    "        df['lat'] = np.where(in_belgium_mask, df['lat'], np.nan)\n",
    "        df['lon'] = np.where(in_belgium_mask, df['lon'], np.nan)\n",
    "\n",
    "        df = self.geo_imputer.transform(df)\n",
    "        \n",
    "        # outliers_geo = self.clf_geo.predict(df[['lat','lon']])\n",
    "        # df['lat'] = df['lat'].where((df['lat']<52) & (df['lat']>49), np.nan)\n",
    "        # df['lon'] = df['lon'].where((df['lon']<8) & (df['lat']>2), np.nan)\n",
    "        # df = self.geo_imputer.transform(df)\n",
    "\n",
    "        outliers_area = self.clf_area.predict(df[['area']].dropna())\n",
    "        df['area'] = df['area'].where(~df['id'].isin(df[['area','id']].dropna()[outliers_area==-1]['id']), np.nan)\n",
    "        df = self.area_imputer.transform(df)\n",
    "        \n",
    "        df = self.ev_imputer_median.transform(df)\n",
    "        \n",
    "        df = pd.concat([df, missing], axis=1)\n",
    "        df['advertiser'] = df['advertiser'].fillna('Other')\n",
    "\n",
    "        df = df.astype(self.type_map)\n",
    "        return df"
   ]
  },
  {
   "cell_type": "code",
   "execution_count": 16,
   "metadata": {},
   "outputs": [],
   "source": [
    "X_train, X_val, y_train, y_val = train_test_split(train.drop(columns='price'),train['price'], shuffle=True, test_size=0.2)\n",
    "prep = preprocess(postcode_source=postcode_list, type_map=type_map)\n",
    "X_train = prep.train(X_train).reset_index(drop=True)\n",
    "X_val = prep.test(X_val).reset_index(drop=True)"
   ]
  },
  {
   "cell_type": "code",
   "execution_count": 14,
   "metadata": {},
   "outputs": [
    {
     "data": {
      "text/plain": [
       "Index(['id', 'is_appartment', 'area', 'added_time', 'bedrooms', 'new_building',\n",
       "       'postcode', 'lat', 'lon', 'advertiser', 'foto_amount', 'subtype',\n",
       "       'energy_value', 'energy_label', 'province', 'bedrooms_cat',\n",
       "       'house_type', 'area_miss', 'lat_miss', 'lon_miss', 'advertiser_miss',\n",
       "       'subtype_miss', 'energy_value_miss', 'energy_label_miss'],\n",
       "      dtype='object')"
      ]
     },
     "execution_count": 14,
     "metadata": {},
     "output_type": "execute_result"
    }
   ],
   "source": [
    "X_train.columns"
   ]
  },
  {
   "cell_type": "code",
   "execution_count": null,
   "metadata": {},
   "outputs": [],
   "source": [
    "# fig = px.scatter_geo(X_train, lat='lat', lon='lon', scope='europe')\n",
    "# fig.update_geos(showcountries=True, showcoastlines=True)\n",
    "# fig.show()"
   ]
  },
  {
   "cell_type": "code",
   "execution_count": 7,
   "metadata": {},
   "outputs": [],
   "source": [
    "# ev_imputer = KNNImputer(n_neighbors=10, weights='distance')\n",
    "# imputed_data = ev_imputer.fit_transform(train[['energy_value','area','is_appartment','new_building', 'lat','lon']])\n",
    "# # df_imputed = pd.DataFrame(imputed_data)\n",
    "# train['energy_value']= pd.DataFrame(imputed_data)[0]"
   ]
  },
  {
   "cell_type": "code",
   "execution_count": 8,
   "metadata": {},
   "outputs": [],
   "source": [
    "# plt.scatter(x=train['energy_value'],y=train['area'],c=missing_checker['energy_value'])\n",
    "# plt.xscale('log')\n",
    "# plt.yscale('log')\n",
    "# plt.xlim()"
   ]
  },
  {
   "cell_type": "markdown",
   "metadata": {},
   "source": [
    "## Feature engineering"
   ]
  },
  {
   "cell_type": "code",
   "execution_count": 6,
   "metadata": {},
   "outputs": [],
   "source": [
    "features_init = (['house_type',\n",
    "             'bedrooms', 'area',\n",
    "             'new_building', 'lat', 'lon', 'foto_amount',\n",
    "             'energy_value', \n",
    "             'area_miss',  'energy_value_miss'])\n",
    "# 'province', advertiser','advertiser_miss', 'lat_miss',  'subtype_miss', 'is_appartment', "
   ]
  },
  {
   "cell_type": "markdown",
   "metadata": {},
   "source": [
    "### Geodata"
   ]
  },
  {
   "cell_type": "code",
   "execution_count": 7,
   "metadata": {},
   "outputs": [],
   "source": [
    "np.random.seed(2)\n",
    "ranint = np.random.randint(0, 17000, 5)\n",
    "X_geo = X_train.sort_values('added_time').iloc[:5][['lat','lon','postcode','province']]\n",
    "#X_geo['point'] = X_geo[['lat', 'lon']].to_records(index=False).tolist()"
   ]
  },
  {
   "cell_type": "code",
   "execution_count": 12,
   "metadata": {},
   "outputs": [
    {
     "name": "stderr",
     "output_type": "stream",
     "text": [
      "c:\\Users\\iskan\\AppData\\Local\\Programs\\Python\\Python312\\Lib\\site-packages\\shapely\\set_operations.py:553: RuntimeWarning: invalid value encountered in unary_union\n",
      "  return lib.unary_union(collections, **kwargs)\n",
      "c:\\Users\\iskan\\AppData\\Local\\Programs\\Python\\Python312\\Lib\\site-packages\\shapely\\constructive.py:486: RuntimeWarning: invalid value encountered in convex_hull\n",
      "  return lib.convex_hull(geometry, **kwargs)\n"
     ]
    },
    {
     "data": {
      "image/png": "[encoded data removed]",
      "text/plain": [
       "<Figure size 1000x1000 with 1 Axes>"
      ]
     },
     "metadata": {},
     "output_type": "display_data"
    }
   ],
   "source": [
    "import osmnx as ox\n",
    "import matplotlib.pyplot as plt\n",
    "import geopandas as gpd\n",
    "from shapely.geometry import Point, box\n",
    "\n",
    "# Step 1: Convert to GeoDataFrame\n",
    "gdf_houses = gpd.GeoDataFrame(\n",
    "    X_train,\n",
    "    geometry=[Point(xy) for xy in zip(X_train['lon'], X_train['lat'])],\n",
    "    crs=\"EPSG:4326\"\n",
    ")\n",
    "\n",
    "# Step 2: Project to UTM\n",
    "utm_crs = gdf_houses.estimate_utm_crs()\n",
    "gdf_houses = gdf_houses.to_crs(utm_crs)\n",
    "\n",
    "# Step 3: Define bounding box with buffer\n",
    "bounds = gdf_houses.total_bounds  # (minx, miny, maxx, maxy)\n",
    "margin = 10000  # in meters\n",
    "bbox = (bounds[1] - margin, bounds[0] - margin, bounds[3] + margin, bounds[2] + margin)\n",
    "\n",
    "# Step 4: Create bounding box polygon\n",
    "bbox_polygon = box(bbox[1], bbox[0], bbox[3], bbox[2])  # (minx, miny, maxx, maxy)\n",
    "bbox_gdf = gpd.GeoDataFrame(geometry=[bbox_polygon], crs=gdf_houses.crs)\n",
    "custom_polygon = gdf_houses.union_all().convex_hull.buffer(10000)\n",
    "custom_polygon_gdf = gpd.GeoDataFrame(geometry=[custom_polygon], crs=gdf_houses.crs)\n",
    "\n",
    "# Step 5: Plot\n",
    "fig, ax = plt.subplots(figsize=(10, 10))\n",
    "gdf_houses.plot(ax=ax, color='blue', markersize=1, label='Houses')\n",
    "custom_polygon_gdf.boundary.plot(ax=ax, color='red', linewidth=2, label='Bounding Box')\n",
    "plt.legend()\n",
    "plt.title(\"Bounding Box vs House Points\")\n",
    "plt.show()"
   ]
  },
  {
   "cell_type": "code",
   "execution_count": 13,
   "metadata": {},
   "outputs": [
    {
     "data": {
      "text/plain": [
       "43345.69118854298"
      ]
     },
     "execution_count": 13,
     "metadata": {},
     "output_type": "execute_result"
    }
   ],
   "source": [
    "custom_polygon.area/1e6"
   ]
  },
  {
   "cell_type": "code",
   "execution_count": null,
   "metadata": {},
   "outputs": [
    {
     "data": {
      "text/plain": [
       "20385.96831926096"
      ]
     },
     "execution_count": 86,
     "metadata": {},
     "output_type": "execute_result"
    }
   ],
   "source": [
    "43795.60147951723/313.65484905459326*146"
   ]
  },
  {
   "cell_type": "code",
   "execution_count": null,
   "metadata": {},
   "outputs": [
    {
     "ename": "TypeError",
     "evalue": "features_from_polygon() got an unexpected keyword argument 'custom_filter'",
     "output_type": "error",
     "traceback": [
      "\u001b[1;31m---------------------------------------------------------------------------\u001b[0m",
      "\u001b[1;31mTypeError\u001b[0m                                 Traceback (most recent call last)",
      "Cell \u001b[1;32mIn[95], line 5\u001b[0m\n\u001b[0;32m      1\u001b[0m \u001b[38;5;66;03m# custom_polygon = gpd.GeoSeries([custom_polygon], crs=utm_crs).to_crs(\"EPSG:4326\").iloc[0]\u001b[39;00m\n\u001b[0;32m      2\u001b[0m tags \u001b[38;5;241m=\u001b[39m {\n\u001b[0;32m      3\u001b[0m     \u001b[38;5;124m\"\u001b[39m\u001b[38;5;124mbuilding\u001b[39m\u001b[38;5;124m\"\u001b[39m: \u001b[38;5;28;01mTrue\u001b[39;00m,\n\u001b[0;32m      4\u001b[0m     }\n\u001b[1;32m----> 5\u001b[0m gdf_all_features \u001b[38;5;241m=\u001b[39m \u001b[43mox\u001b[49m\u001b[38;5;241;43m.\u001b[39;49m\u001b[43mfeatures\u001b[49m\u001b[38;5;241;43m.\u001b[39;49m\u001b[43mfeatures_from_polygon\u001b[49m\u001b[43m(\u001b[49m\u001b[43mcustom_polygon\u001b[49m\u001b[43m,\u001b[49m\u001b[43m \u001b[49m\u001b[43mcustom_filter\u001b[49m\u001b[38;5;241;43m=\u001b[39;49m\u001b[43m \u001b[49m\u001b[38;5;124;43m'\u001b[39;49m\u001b[38;5;124;43m[\u001b[39;49m\u001b[38;5;124;43m\"\u001b[39;49m\u001b[38;5;124;43mbuilding\u001b[39;49m\u001b[38;5;124;43m\"\u001b[39;49m\u001b[38;5;124;43m][!\u001b[39;49m\u001b[38;5;124;43m\"\u001b[39;49m\u001b[38;5;124;43mbuilding:part\u001b[39;49m\u001b[38;5;124;43m\"\u001b[39;49m\u001b[38;5;124;43m]\u001b[39;49m\u001b[38;5;124;43m'\u001b[39;49m\u001b[43m)\u001b[49m\n",
      "\u001b[1;31mTypeError\u001b[0m: features_from_polygon() got an unexpected keyword argument 'custom_filter'"
     ]
    }
   ],
   "source": [
    "custom_polygon = gpd.GeoSeries([custom_polygon], crs=utm_crs).to_crs(\"EPSG:4326\").iloc[0]\n",
    "tags = {\n",
    "    \"building\": True,\n",
    "    }\n",
    "gdf_all_features = ox.features.features_from_polygon(custom_polygon, tags=tags)"
   ]
  },
  {
   "cell_type": "code",
   "execution_count": 93,
   "metadata": {},
   "outputs": [
    {
     "name": "stderr",
     "output_type": "stream",
     "text": [
      "2025-05-01 16:13:17,396 INFO: Created 86,461 records\n"
     ]
    }
   ],
   "source": [
    "gdf_all_features.to_file(\"buildings_314.gpkg\", driver=\"GPKG\")"
   ]
  },
  {
   "cell_type": "code",
   "execution_count": 94,
   "metadata": {},
   "outputs": [
    {
     "data": {
      "text/html": [
       "<div>\n",
       "<style scoped>\n",
       "    .dataframe tbody tr th:only-of-type {\n",
       "        vertical-align: middle;\n",
       "    }\n",
       "\n",
       "    .dataframe tbody tr th {\n",
       "        vertical-align: top;\n",
       "    }\n",
       "\n",
       "    .dataframe thead th {\n",
       "        text-align: right;\n",
       "    }\n",
       "</style>\n",
       "<table border=\"1\" class=\"dataframe\">\n",
       "  <thead>\n",
       "    <tr style=\"text-align: right;\">\n",
       "      <th></th>\n",
       "      <th></th>\n",
       "      <th>geometry</th>\n",
       "      <th>building</th>\n",
       "      <th>leisure</th>\n",
       "      <th>name</th>\n",
       "      <th>sport</th>\n",
       "      <th>addr:housename</th>\n",
       "      <th>addr:housenumber</th>\n",
       "      <th>addr:postcode</th>\n",
       "      <th>addr:street</th>\n",
       "      <th>landuse</th>\n",
       "      <th>...</th>\n",
       "      <th>substation</th>\n",
       "      <th>museum</th>\n",
       "      <th>name:li</th>\n",
       "      <th>reservation</th>\n",
       "      <th>est_height</th>\n",
       "      <th>fireplace</th>\n",
       "      <th>place_of_worship</th>\n",
       "      <th>type</th>\n",
       "      <th>OnroerendErfgoed:inscription_date</th>\n",
       "      <th>artwork_type</th>\n",
       "    </tr>\n",
       "    <tr>\n",
       "      <th>element</th>\n",
       "      <th>id</th>\n",
       "      <th></th>\n",
       "      <th></th>\n",
       "      <th></th>\n",
       "      <th></th>\n",
       "      <th></th>\n",
       "      <th></th>\n",
       "      <th></th>\n",
       "      <th></th>\n",
       "      <th></th>\n",
       "      <th></th>\n",
       "      <th></th>\n",
       "      <th></th>\n",
       "      <th></th>\n",
       "      <th></th>\n",
       "      <th></th>\n",
       "      <th></th>\n",
       "      <th></th>\n",
       "      <th></th>\n",
       "      <th></th>\n",
       "      <th></th>\n",
       "      <th></th>\n",
       "    </tr>\n",
       "  </thead>\n",
       "  <tbody>\n",
       "    <tr>\n",
       "      <th rowspan=\"5\" valign=\"top\">node</th>\n",
       "      <th>2294616515</th>\n",
       "      <td>POINT (5.39113 51.0407)</td>\n",
       "      <td>public</td>\n",
       "      <td>sports_centre</td>\n",
       "      <td>Houthalen VV</td>\n",
       "      <td>soccer</td>\n",
       "      <td>NaN</td>\n",
       "      <td>NaN</td>\n",
       "      <td>NaN</td>\n",
       "      <td>NaN</td>\n",
       "      <td>NaN</td>\n",
       "      <td>...</td>\n",
       "      <td>NaN</td>\n",
       "      <td>NaN</td>\n",
       "      <td>NaN</td>\n",
       "      <td>NaN</td>\n",
       "      <td>NaN</td>\n",
       "      <td>NaN</td>\n",
       "      <td>NaN</td>\n",
       "      <td>NaN</td>\n",
       "      <td>NaN</td>\n",
       "      <td>NaN</td>\n",
       "    </tr>\n",
       "    <tr>\n",
       "      <th>2409851026</th>\n",
       "      <td>POINT (5.34656 50.99107)</td>\n",
       "      <td>office</td>\n",
       "      <td>NaN</td>\n",
       "      <td>fusemedia</td>\n",
       "      <td>NaN</td>\n",
       "      <td>fusemedia</td>\n",
       "      <td>6</td>\n",
       "      <td>3520</td>\n",
       "      <td>Halveweg</td>\n",
       "      <td>NaN</td>\n",
       "      <td>...</td>\n",
       "      <td>NaN</td>\n",
       "      <td>NaN</td>\n",
       "      <td>NaN</td>\n",
       "      <td>NaN</td>\n",
       "      <td>NaN</td>\n",
       "      <td>NaN</td>\n",
       "      <td>NaN</td>\n",
       "      <td>NaN</td>\n",
       "      <td>NaN</td>\n",
       "      <td>NaN</td>\n",
       "    </tr>\n",
       "    <tr>\n",
       "      <th>2720698597</th>\n",
       "      <td>POINT (5.26393 51.0843)</td>\n",
       "      <td>chapel</td>\n",
       "      <td>NaN</td>\n",
       "      <td>NaN</td>\n",
       "      <td>NaN</td>\n",
       "      <td>NaN</td>\n",
       "      <td>NaN</td>\n",
       "      <td>NaN</td>\n",
       "      <td>NaN</td>\n",
       "      <td>NaN</td>\n",
       "      <td>...</td>\n",
       "      <td>NaN</td>\n",
       "      <td>NaN</td>\n",
       "      <td>NaN</td>\n",
       "      <td>NaN</td>\n",
       "      <td>NaN</td>\n",
       "      <td>NaN</td>\n",
       "      <td>NaN</td>\n",
       "      <td>NaN</td>\n",
       "      <td>NaN</td>\n",
       "      <td>NaN</td>\n",
       "    </tr>\n",
       "    <tr>\n",
       "      <th>2720698598</th>\n",
       "      <td>POINT (5.2738 51.06165)</td>\n",
       "      <td>chapel</td>\n",
       "      <td>NaN</td>\n",
       "      <td>NaN</td>\n",
       "      <td>NaN</td>\n",
       "      <td>NaN</td>\n",
       "      <td>NaN</td>\n",
       "      <td>NaN</td>\n",
       "      <td>NaN</td>\n",
       "      <td>NaN</td>\n",
       "      <td>...</td>\n",
       "      <td>NaN</td>\n",
       "      <td>NaN</td>\n",
       "      <td>NaN</td>\n",
       "      <td>NaN</td>\n",
       "      <td>NaN</td>\n",
       "      <td>NaN</td>\n",
       "      <td>NaN</td>\n",
       "      <td>NaN</td>\n",
       "      <td>NaN</td>\n",
       "      <td>NaN</td>\n",
       "    </tr>\n",
       "    <tr>\n",
       "      <th>2720698600</th>\n",
       "      <td>POINT (5.28976 51.06174)</td>\n",
       "      <td>chapel</td>\n",
       "      <td>NaN</td>\n",
       "      <td>NaN</td>\n",
       "      <td>NaN</td>\n",
       "      <td>NaN</td>\n",
       "      <td>NaN</td>\n",
       "      <td>NaN</td>\n",
       "      <td>NaN</td>\n",
       "      <td>NaN</td>\n",
       "      <td>...</td>\n",
       "      <td>NaN</td>\n",
       "      <td>NaN</td>\n",
       "      <td>NaN</td>\n",
       "      <td>NaN</td>\n",
       "      <td>NaN</td>\n",
       "      <td>NaN</td>\n",
       "      <td>NaN</td>\n",
       "      <td>NaN</td>\n",
       "      <td>NaN</td>\n",
       "      <td>NaN</td>\n",
       "    </tr>\n",
       "    <tr>\n",
       "      <th>...</th>\n",
       "      <th>...</th>\n",
       "      <td>...</td>\n",
       "      <td>...</td>\n",
       "      <td>...</td>\n",
       "      <td>...</td>\n",
       "      <td>...</td>\n",
       "      <td>...</td>\n",
       "      <td>...</td>\n",
       "      <td>...</td>\n",
       "      <td>...</td>\n",
       "      <td>...</td>\n",
       "      <td>...</td>\n",
       "      <td>...</td>\n",
       "      <td>...</td>\n",
       "      <td>...</td>\n",
       "      <td>...</td>\n",
       "      <td>...</td>\n",
       "      <td>...</td>\n",
       "      <td>...</td>\n",
       "      <td>...</td>\n",
       "      <td>...</td>\n",
       "      <td>...</td>\n",
       "    </tr>\n",
       "    <tr>\n",
       "      <th rowspan=\"5\" valign=\"top\">way</th>\n",
       "      <th>1381066319</th>\n",
       "      <td>POLYGON ((5.39247 51.05531, 5.3927 51.05533, 5...</td>\n",
       "      <td>house</td>\n",
       "      <td>NaN</td>\n",
       "      <td>NaN</td>\n",
       "      <td>NaN</td>\n",
       "      <td>NaN</td>\n",
       "      <td>12</td>\n",
       "      <td>NaN</td>\n",
       "      <td>Bijendries</td>\n",
       "      <td>NaN</td>\n",
       "      <td>...</td>\n",
       "      <td>NaN</td>\n",
       "      <td>NaN</td>\n",
       "      <td>NaN</td>\n",
       "      <td>NaN</td>\n",
       "      <td>NaN</td>\n",
       "      <td>NaN</td>\n",
       "      <td>NaN</td>\n",
       "      <td>NaN</td>\n",
       "      <td>NaN</td>\n",
       "      <td>NaN</td>\n",
       "    </tr>\n",
       "    <tr>\n",
       "      <th>1381387728</th>\n",
       "      <td>POLYGON ((5.45426 51.13318, 5.45438 51.13319, ...</td>\n",
       "      <td>house</td>\n",
       "      <td>NaN</td>\n",
       "      <td>NaN</td>\n",
       "      <td>NaN</td>\n",
       "      <td>NaN</td>\n",
       "      <td>8</td>\n",
       "      <td>NaN</td>\n",
       "      <td>Nieuwstraat</td>\n",
       "      <td>NaN</td>\n",
       "      <td>...</td>\n",
       "      <td>NaN</td>\n",
       "      <td>NaN</td>\n",
       "      <td>NaN</td>\n",
       "      <td>NaN</td>\n",
       "      <td>NaN</td>\n",
       "      <td>NaN</td>\n",
       "      <td>NaN</td>\n",
       "      <td>NaN</td>\n",
       "      <td>NaN</td>\n",
       "      <td>NaN</td>\n",
       "    </tr>\n",
       "    <tr>\n",
       "      <th>1381387729</th>\n",
       "      <td>POLYGON ((5.45453 51.13317, 5.4545 51.13317, 5...</td>\n",
       "      <td>apartments</td>\n",
       "      <td>NaN</td>\n",
       "      <td>NaN</td>\n",
       "      <td>NaN</td>\n",
       "      <td>NaN</td>\n",
       "      <td>NaN</td>\n",
       "      <td>NaN</td>\n",
       "      <td>NaN</td>\n",
       "      <td>NaN</td>\n",
       "      <td>...</td>\n",
       "      <td>NaN</td>\n",
       "      <td>NaN</td>\n",
       "      <td>NaN</td>\n",
       "      <td>NaN</td>\n",
       "      <td>NaN</td>\n",
       "      <td>NaN</td>\n",
       "      <td>NaN</td>\n",
       "      <td>NaN</td>\n",
       "      <td>NaN</td>\n",
       "      <td>NaN</td>\n",
       "    </tr>\n",
       "    <tr>\n",
       "      <th>1381387730</th>\n",
       "      <td>POLYGON ((5.45409 51.133, 5.45417 51.13302, 5....</td>\n",
       "      <td>apartments</td>\n",
       "      <td>NaN</td>\n",
       "      <td>NaN</td>\n",
       "      <td>NaN</td>\n",
       "      <td>NaN</td>\n",
       "      <td>3</td>\n",
       "      <td>NaN</td>\n",
       "      <td>Blauwe Kielsteegje</td>\n",
       "      <td>NaN</td>\n",
       "      <td>...</td>\n",
       "      <td>NaN</td>\n",
       "      <td>NaN</td>\n",
       "      <td>NaN</td>\n",
       "      <td>NaN</td>\n",
       "      <td>NaN</td>\n",
       "      <td>NaN</td>\n",
       "      <td>NaN</td>\n",
       "      <td>NaN</td>\n",
       "      <td>NaN</td>\n",
       "      <td>NaN</td>\n",
       "    </tr>\n",
       "    <tr>\n",
       "      <th>1381387736</th>\n",
       "      <td>POLYGON ((5.44933 51.12895, 5.44933 51.12896, ...</td>\n",
       "      <td>house</td>\n",
       "      <td>NaN</td>\n",
       "      <td>NaN</td>\n",
       "      <td>NaN</td>\n",
       "      <td>NaN</td>\n",
       "      <td>27</td>\n",
       "      <td>NaN</td>\n",
       "      <td>Vredestraat</td>\n",
       "      <td>NaN</td>\n",
       "      <td>...</td>\n",
       "      <td>NaN</td>\n",
       "      <td>NaN</td>\n",
       "      <td>NaN</td>\n",
       "      <td>NaN</td>\n",
       "      <td>NaN</td>\n",
       "      <td>NaN</td>\n",
       "      <td>NaN</td>\n",
       "      <td>NaN</td>\n",
       "      <td>NaN</td>\n",
       "      <td>NaN</td>\n",
       "    </tr>\n",
       "  </tbody>\n",
       "</table>\n",
       "<p>86461 rows × 217 columns</p>\n",
       "</div>"
      ],
      "text/plain": [
       "                                                             geometry  \\\n",
       "element id                                                              \n",
       "node    2294616515                            POINT (5.39113 51.0407)   \n",
       "        2409851026                           POINT (5.34656 50.99107)   \n",
       "        2720698597                            POINT (5.26393 51.0843)   \n",
       "        2720698598                            POINT (5.2738 51.06165)   \n",
       "        2720698600                           POINT (5.28976 51.06174)   \n",
       "...                                                               ...   \n",
       "way     1381066319  POLYGON ((5.39247 51.05531, 5.3927 51.05533, 5...   \n",
       "        1381387728  POLYGON ((5.45426 51.13318, 5.45438 51.13319, ...   \n",
       "        1381387729  POLYGON ((5.45453 51.13317, 5.4545 51.13317, 5...   \n",
       "        1381387730  POLYGON ((5.45409 51.133, 5.45417 51.13302, 5....   \n",
       "        1381387736  POLYGON ((5.44933 51.12895, 5.44933 51.12896, ...   \n",
       "\n",
       "                      building        leisure          name   sport  \\\n",
       "element id                                                            \n",
       "node    2294616515      public  sports_centre  Houthalen VV  soccer   \n",
       "        2409851026      office            NaN     fusemedia     NaN   \n",
       "        2720698597      chapel            NaN           NaN     NaN   \n",
       "        2720698598      chapel            NaN           NaN     NaN   \n",
       "        2720698600      chapel            NaN           NaN     NaN   \n",
       "...                        ...            ...           ...     ...   \n",
       "way     1381066319       house            NaN           NaN     NaN   \n",
       "        1381387728       house            NaN           NaN     NaN   \n",
       "        1381387729  apartments            NaN           NaN     NaN   \n",
       "        1381387730  apartments            NaN           NaN     NaN   \n",
       "        1381387736       house            NaN           NaN     NaN   \n",
       "\n",
       "                   addr:housename addr:housenumber addr:postcode  \\\n",
       "element id                                                         \n",
       "node    2294616515            NaN              NaN           NaN   \n",
       "        2409851026      fusemedia                6          3520   \n",
       "        2720698597            NaN              NaN           NaN   \n",
       "        2720698598            NaN              NaN           NaN   \n",
       "        2720698600            NaN              NaN           NaN   \n",
       "...                           ...              ...           ...   \n",
       "way     1381066319            NaN               12           NaN   \n",
       "        1381387728            NaN                8           NaN   \n",
       "        1381387729            NaN              NaN           NaN   \n",
       "        1381387730            NaN                3           NaN   \n",
       "        1381387736            NaN               27           NaN   \n",
       "\n",
       "                           addr:street landuse  ... substation museum name:li  \\\n",
       "element id                                      ...                             \n",
       "node    2294616515                 NaN     NaN  ...        NaN    NaN     NaN   \n",
       "        2409851026            Halveweg     NaN  ...        NaN    NaN     NaN   \n",
       "        2720698597                 NaN     NaN  ...        NaN    NaN     NaN   \n",
       "        2720698598                 NaN     NaN  ...        NaN    NaN     NaN   \n",
       "        2720698600                 NaN     NaN  ...        NaN    NaN     NaN   \n",
       "...                                ...     ...  ...        ...    ...     ...   \n",
       "way     1381066319          Bijendries     NaN  ...        NaN    NaN     NaN   \n",
       "        1381387728         Nieuwstraat     NaN  ...        NaN    NaN     NaN   \n",
       "        1381387729                 NaN     NaN  ...        NaN    NaN     NaN   \n",
       "        1381387730  Blauwe Kielsteegje     NaN  ...        NaN    NaN     NaN   \n",
       "        1381387736         Vredestraat     NaN  ...        NaN    NaN     NaN   \n",
       "\n",
       "                   reservation est_height fireplace place_of_worship type  \\\n",
       "element id                                                                  \n",
       "node    2294616515         NaN        NaN       NaN              NaN  NaN   \n",
       "        2409851026         NaN        NaN       NaN              NaN  NaN   \n",
       "        2720698597         NaN        NaN       NaN              NaN  NaN   \n",
       "        2720698598         NaN        NaN       NaN              NaN  NaN   \n",
       "        2720698600         NaN        NaN       NaN              NaN  NaN   \n",
       "...                        ...        ...       ...              ...  ...   \n",
       "way     1381066319         NaN        NaN       NaN              NaN  NaN   \n",
       "        1381387728         NaN        NaN       NaN              NaN  NaN   \n",
       "        1381387729         NaN        NaN       NaN              NaN  NaN   \n",
       "        1381387730         NaN        NaN       NaN              NaN  NaN   \n",
       "        1381387736         NaN        NaN       NaN              NaN  NaN   \n",
       "\n",
       "                   OnroerendErfgoed:inscription_date artwork_type  \n",
       "element id                                                         \n",
       "node    2294616515                               NaN          NaN  \n",
       "        2409851026                               NaN          NaN  \n",
       "        2720698597                               NaN          NaN  \n",
       "        2720698598                               NaN          NaN  \n",
       "        2720698600                               NaN          NaN  \n",
       "...                                              ...          ...  \n",
       "way     1381066319                               NaN          NaN  \n",
       "        1381387728                               NaN          NaN  \n",
       "        1381387729                               NaN          NaN  \n",
       "        1381387730                               NaN          NaN  \n",
       "        1381387736                               NaN          NaN  \n",
       "\n",
       "[86461 rows x 217 columns]"
      ]
     },
     "execution_count": 94,
     "metadata": {},
     "output_type": "execute_result"
    }
   ],
   "source": [
    "gdf_all_features"
   ]
  },
  {
   "cell_type": "markdown",
   "metadata": {},
   "source": [
    "### New own features"
   ]
  },
  {
   "cell_type": "code",
   "execution_count": 9,
   "metadata": {},
   "outputs": [],
   "source": [
    "def SpecialTransform(df):\n",
    "    X = pd.DataFrame()\n",
    "    X['area_bed'] = df.area/(df.bedrooms+1)\n",
    "    X['area_foto'] = df.area/df.foto_amount\n",
    "    X.loc[df['foto_amount'] == 0, 'area_foto'] = 0\n",
    "    X['ev_area'] = df.energy_value/df.area\n",
    "    X['miss_tot'] = df.energy_value_miss*1 + df.area_miss*1 + df.advertiser_miss*1 + df.lat_miss*1 + df.subtype_miss*1\n",
    "    return X"
   ]
  },
  {
   "cell_type": "code",
   "execution_count": 10,
   "metadata": {},
   "outputs": [],
   "source": [
    "new_cols = SpecialTransform(X_train).columns.to_list()\n",
    "X_train = X_train.join(SpecialTransform(X_train))\n",
    "X_val = X_val.join(SpecialTransform(X_val))"
   ]
  },
  {
   "cell_type": "code",
   "execution_count": null,
   "metadata": {},
   "outputs": [],
   "source": [
    "cl_range = list(range(20,101,20)) + list(range(150,301,50))\n",
    "feateng = feature_engineering(targets=['area', 'bedrooms','energy_value','area_bed','ev_area','area_foto'],\n",
    "                              transform_type=['median'],\n",
    "                              comp_type=['diff','frac'],\n",
    "                              groups=['province','house_type'],\n",
    "                              features=['lat','lon'],\n",
    "                              cl_name='clt',\n",
    "                              clustering=True, \n",
    "                              cluster_range=cl_range)\n",
    "\n",
    "feateng_density = feature_engineering(targets=['area'],\n",
    "                              transform_type=['count'],\n",
    "                              comp_type=None,\n",
    "                              groups=['province','house_type'],\n",
    "                              features=['lat','lon'],\n",
    "                              cl_name='clt',\n",
    "                              clustering=False, \n",
    "                              cluster_range=cl_range)\n",
    "\n",
    "X_train_new = feateng.train(X_train)\n",
    "X_val_new = feateng.test(X_val)\n",
    "\n",
    "\n",
    "X_train_new = feateng_density.train(X_train_new)\n",
    "X_val_new = feateng_density.test(X_val_new)"
   ]
  },
  {
   "cell_type": "code",
   "execution_count": 13,
   "metadata": {},
   "outputs": [
    {
     "name": "stdout",
     "output_type": "stream",
     "text": [
      "232\n"
     ]
    }
   ],
   "source": [
    "features_new = features_init + X_train_new.columns.to_list()[25:]\n",
    "print(len(features_new))"
   ]
  },
  {
   "cell_type": "markdown",
   "metadata": {},
   "source": [
    "### Feature selection on correlation"
   ]
  },
  {
   "cell_type": "code",
   "execution_count": 14,
   "metadata": {},
   "outputs": [],
   "source": [
    "def getnum(df):\n",
    "    logic = (df.dtypes=='float64') | (df.dtypes=='float32') | (df.dtypes=='float16')\n",
    "    num_features = df.dtypes[logic].index.to_list()\n",
    "    other_features = df.dtypes[~logic].index.to_list()\n",
    "    return num_features, other_features"
   ]
  },
  {
   "cell_type": "code",
   "execution_count": null,
   "metadata": {},
   "outputs": [],
   "source": [
    "numcols, othcols = getnum(X_train_new)"
   ]
  },
  {
   "cell_type": "code",
   "execution_count": 16,
   "metadata": {},
   "outputs": [],
   "source": [
    "# plt.figure(figsize=(8, 6))\n",
    "# sns.heatmap(spearman_corr, annot=False, cmap='coolwarm', vmin=-1, vmax=1)\n",
    "# plt.title('Spearman Correlation Matrix')\n",
    "# plt.show()"
   ]
  },
  {
   "cell_type": "code",
   "execution_count": null,
   "metadata": {},
   "outputs": [],
   "source": [
    "numcols, othcols = getnum(X_train_new)\n",
    "catcols = ['new_building',\n",
    " 'advertiser',\n",
    " 'subtype',\n",
    " 'house_type',\n",
    " 'area_miss',\n",
    " 'lat_miss',\n",
    " 'advertiser_miss',\n",
    " 'subtype_miss',\n",
    " 'energy_label_miss',\n",
    " 'clt20',\n",
    " 'clt40',\n",
    " 'clt60',\n",
    " 'clt80',\n",
    " 'clt100',\n",
    " 'clt150',\n",
    " 'clt200',\n",
    " 'clt250',\n",
    " 'clt300']\n",
    "\n",
    "numcols = numcols + (\n",
    "['miss_tot',\n",
    " 'area-clt20-count',\n",
    " 'area-clt40-count',\n",
    " 'area-clt60-count',\n",
    " 'area-clt80-count',\n",
    " 'area-clt100-count',\n",
    " 'area-clt150-count',\n",
    " 'area-clt200-count',\n",
    " 'area-clt250-count',\n",
    " 'area-clt300-count',\n",
    " 'area-province-count',\n",
    " 'area-house_type-count' ])"
   ]
  },
  {
   "cell_type": "code",
   "execution_count": 19,
   "metadata": {},
   "outputs": [],
   "source": [
    "only_cor = feature_selection()\n",
    "selected, _ = only_cor.select(X_train_new[numcols])"
   ]
  },
  {
   "cell_type": "code",
   "execution_count": null,
   "metadata": {},
   "outputs": [],
   "source": [
    "# items_to_remove = {'index', 'id', 'is_appartment', 'added_time', 'postcode', 'energy_label', 'province', 'bedrooms_cat', 'lon_miss' ,'energy_value_miss'}\n",
    "# othcols = [x for x in othcols if x not in items_to_remove]\n",
    "features_filt = catcols+selected"
   ]
  },
  {
   "cell_type": "markdown",
   "metadata": {},
   "source": [
    "### MI scores"
   ]
  },
  {
   "cell_type": "code",
   "execution_count": null,
   "metadata": {},
   "outputs": [],
   "source": [
    "def make_mi_scores(X, y):\n",
    "    X = X.copy()\n",
    "    for colname in X.select_dtypes([\"object\", \"category\"]):\n",
    "        X[colname], _ = X[colname].factorize()\n",
    "    # All discrete features should now have integer dtypes\n",
    "    discrete_features = [pd.api.types.is_integer_dtype(t) for t in X.dtypes]\n",
    "    mi_scores = mutual_info_regression(X, y, discrete_features=discrete_features, random_state=0)\n",
    "    mi_scores = pd.Series(mi_scores, name=\"MI Scores\", index=X.columns)\n",
    "    mi_scores = mi_scores.sort_values(ascending=False)\n",
    "    return mi_scores\n",
    "\n",
    "\n",
    "def plot_mi_scores(scores):\n",
    "    scores = scores.sort_values(ascending=True)\n",
    "    width = np.arange(len(scores))\n",
    "    ticks = list(scores.index)\n",
    "    plt.barh(width, scores)\n",
    "    plt.yticks(width, ticks)\n",
    "    plt.title(\"Mutual Information Scores\")\n",
    "\n",
    "# mi_scores = make_mi_scores(X_train_new_new[features_new],y_train.reset_index(drop=True))\n",
    "# plot_mi_scores(mi_scores)"
   ]
  },
  {
   "cell_type": "markdown",
   "metadata": {},
   "source": [
    "### Autofeat"
   ]
  },
  {
   "cell_type": "code",
   "execution_count": 74,
   "metadata": {},
   "outputs": [],
   "source": [
    "X_train_new = X_train_new[catcols + numcols]\n",
    "X_val_new = X_val_new[catcols + numcols]"
   ]
  },
  {
   "cell_type": "code",
   "execution_count": null,
   "metadata": {},
   "outputs": [],
   "source": [
    "categorical_cols=['house_type', 'lat_miss',  'clt20', 'clt40', 'clt60', 'clt80', 'clt100', 'clt150', 'clt200', 'clt250', 'clt300']\n",
    "feateng_cols=['area', 'energy_value', 'bedrooms', 'foto_amount']\n",
    "\n",
    "autofeatures = autofeat.AutoFeatRegressor(feateng_cols=feateng_cols, featsel_runs=2)\n",
    "X_train_feat = autofeatures.fit_transform(X_train_new[feateng_cols], np.log(y_train.reset_index(drop=True))).drop(columns=feateng_cols)\n",
    "X_val_feat = autofeatures.transform(X_val_new[feateng_cols]).drop(columns=feateng_cols)\n",
    "\n",
    "X_train_new = X_train_new.join(X_train_feat)\n",
    "X_val_new = X_val_new.join(X_val_feat)"
   ]
  },
  {
   "cell_type": "markdown",
   "metadata": {},
   "source": [
    "## Dimensionality Reduction"
   ]
  },
  {
   "cell_type": "markdown",
   "metadata": {},
   "source": [
    "### PCA"
   ]
  },
  {
   "cell_type": "code",
   "execution_count": null,
   "metadata": {},
   "outputs": [],
   "source": [
    "# pca_own = PCA_num(n_components=100)\n",
    "# X_train_red = pca_own.fit_transform(X_train_new_new)"
   ]
  },
  {
   "cell_type": "markdown",
   "metadata": {},
   "source": [
    "## Model"
   ]
  },
  {
   "cell_type": "markdown",
   "metadata": {},
   "source": [
    "### KNN"
   ]
  },
  {
   "cell_type": "code",
   "execution_count": 100,
   "metadata": {},
   "outputs": [],
   "source": [
    "# X_train, y_train = train[['is_appartment','area','lat','lon','foto_amount','energy_value','house_type']].copy(),train['price'].copy()\n",
    "\n",
    "# X_train_encoded = pd.get_dummies(X_train, columns=['house_type'])\n",
    "\n",
    "# scaler = StandardScaler()\n",
    "# X_train_encoded[['area','lat','lon','energy_value','foto_amount']] = scaler.fit_transform(X_train_encoded[['area','lat','lon','energy_value','foto_amount']])"
   ]
  },
  {
   "cell_type": "code",
   "execution_count": 101,
   "metadata": {},
   "outputs": [],
   "source": [
    "# scores_KNN = []\n",
    "# for i in range(2,60,2):\n",
    "#     neigh_model = KNeighborsRegressor(n_neighbors=i, weights='distance')\n",
    "#     scores_KNN.append(cross_val_score(neigh_model, X_train_encoded, y_train, cv=5, scoring='neg_mean_absolute_percentage_error')*-1)\n",
    "\n",
    "# scores_KNN = pd.DataFrame(scores_KNN)\n",
    "# plt.scatter((scores_KNN.index+1)*2, scores_KNN.apply(np.mean, axis=1))"
   ]
  },
  {
   "cell_type": "code",
   "execution_count": 102,
   "metadata": {},
   "outputs": [],
   "source": [
    "# neigh_model_final = KNeighborsRegressor(n_neighbors=14, weights='distance')\n",
    "# neigh_model_final.fit(X_train_encoded,y_train)"
   ]
  },
  {
   "cell_type": "markdown",
   "metadata": {},
   "source": [
    "### XGBoost"
   ]
  },
  {
   "cell_type": "code",
   "execution_count": 76,
   "metadata": {},
   "outputs": [
    {
     "name": "stdout",
     "output_type": "stream",
     "text": [
      "109499.32399963765\n"
     ]
    }
   ],
   "source": [
    "#X_train, X_val, y_train, y_val = train_test_split(train[features],train['price'], shuffle=False, test_size=0.2)\n",
    "\n",
    "dtrain = xgb.DMatrix(X_train_new, label=np.log(y_train.reset_index(drop=True)), enable_categorical=True)\n",
    "dval = xgb.DMatrix(X_val_new,label=np.log(y_val.reset_index(drop=True)), enable_categorical=True)\n",
    "\n",
    "evallist = [(dval, 'val')]\n",
    "\n",
    "param_xgb = {'max_depth': 5, 'eta': 0.1, 'objective': 'reg:squarederror', 'reg_lambda':10, 'reg_alpha':10,}\n",
    "\n",
    "xgb_regressor = xgb.train(\n",
    "    params=param_xgb,\n",
    "    dtrain=dtrain,\n",
    "    num_boost_round=2000\n",
    ")\n",
    "RMSE = np.mean((np.exp(xgb_regressor.predict(dval))-y_val)**2)**(1/2)\n",
    "print(RMSE)"
   ]
  },
  {
   "cell_type": "code",
   "execution_count": 69,
   "metadata": {},
   "outputs": [],
   "source": [
    "scores = xgb_regressor.get_score(importance_type='gain')\n",
    "selected_scr, _ = select_features_with_importance(X_train_new[numcols], scores, threshold=0.9)"
   ]
  },
  {
   "cell_type": "code",
   "execution_count": 71,
   "metadata": {},
   "outputs": [],
   "source": [
    "features_filt_scr = othcols+selected_scr"
   ]
  },
  {
   "cell_type": "code",
   "execution_count": 78,
   "metadata": {},
   "outputs": [],
   "source": [
    "def featsel(xgb_regressor = xgb_regressor):\n",
    "    df_scores = pd.DataFrame.from_dict(xgb_regressor.get_score(importance_type='gain'), orient='index', columns=['gain'])\n",
    "    df_scores = df_scores.join(pd.DataFrame.from_dict(xgb_regressor.get_score(importance_type='cover'), orient='index', columns=['cover']))\n",
    "    df_scores['gain_rank']=df_scores['gain'].rank(method='min', ascending=False).astype(int)\n",
    "    df_scores['cover_rank']=df_scores['cover'].rank(method='min', ascending=False).astype(int)\n",
    "    df_scores['overall_rank'] = df_scores['gain_rank']+df_scores['cover_rank']\n",
    "    df_scores['overall_rank'] = df_scores['overall_rank'].rank(method='min', ascending=True).astype(int)\n",
    "    df_scores=df_scores.sort_values(by='overall_rank', ascending=True)\n",
    "    features = df_scores.index[:-5]\n",
    "    return features"
   ]
  },
  {
   "cell_type": "code",
   "execution_count": null,
   "metadata": {},
   "outputs": [
    {
     "data": {
      "text/plain": [
       "232"
      ]
     },
     "execution_count": 80,
     "metadata": {},
     "output_type": "execute_result"
    }
   ],
   "source": [
    "features_new_new = features_new\n",
    "len(features_new)"
   ]
  },
  {
   "cell_type": "code",
   "execution_count": 78,
   "metadata": {},
   "outputs": [
    {
     "name": "stdout",
     "output_type": "stream",
     "text": [
      "104458.19050112544\n"
     ]
    }
   ],
   "source": [
    "dtrain = xgb.DMatrix(X_train_new[features_new], label=np.log(y_train.reset_index(drop=True)), enable_categorical=True)\n",
    "dval = xgb.DMatrix(X_val_new[features_new],label=np.log(y_val.reset_index(drop=True)), enable_categorical=True)\n",
    "\n",
    "evallist = [(dval, 'val')]\n",
    "\n",
    "param_xgb = {'max_depth': 5, 'eta': 0.1, 'objective': 'reg:squarederror', 'reg_lambda':10, 'reg_alpha':10,}\n",
    "\n",
    "xgb_regressor = xgb.train(\n",
    "    params=param_xgb,\n",
    "    dtrain=dtrain,\n",
    "    num_boost_round=1000\n",
    ")\n",
    "RMSE = np.mean((np.exp(xgb_regressor.predict(dval))-y_val)**2)**(1/2)\n",
    "print(RMSE)\n",
    "\n",
    "# features_new_new=featsel(xgb_regressor)\n",
    "# print(len(features_new_new))"
   ]
  },
  {
   "cell_type": "code",
   "execution_count": 27,
   "metadata": {},
   "outputs": [
    {
     "data": {
      "text/plain": [
       "<Axes: title={'center': 'Feature importance'}, xlabel='Importance score', ylabel='Features'>"
      ]
     },
     "execution_count": 27,
     "metadata": {},
     "output_type": "execute_result"
    },
    {
     "data": {
      "image/png": "[encoded data removed]",
      "text/plain": [
       "<Figure size 640x480 with 1 Axes>"
      ]
     },
     "metadata": {},
     "output_type": "display_data"
    }
   ],
   "source": [
    "xgb.plot_importance(xgb_regressor, importance_type='gain')"
   ]
  },
  {
   "cell_type": "markdown",
   "metadata": {},
   "source": [
    "# Test"
   ]
  },
  {
   "cell_type": "markdown",
   "metadata": {},
   "source": [
    "## Data"
   ]
  },
  {
   "cell_type": "code",
   "execution_count": 25,
   "metadata": {},
   "outputs": [],
   "source": [
    "# test = pd.read_csv(\"test.csv\", header=0)\n",
    "test = test.reset_index()\n",
    "# test = test.drop(columns=['is_promoted','sticker','price_drop_date'])\n",
    "test['energy_label'] = test['energy_label'].astype('category')\n",
    "test['new_building'] = test['new_building'].astype('bool')\n",
    "test['postcode'] = test['postcode'].astype('category')\n",
    "\n",
    "test['bedrooms_cat'] = pd.cut(test['bedrooms'], bins=[-1,0,1,2,3,4,5,6,float('inf')], labels=['0','1','2','3','4','5','6','7+'])\n",
    "test['house_type'] = test['subtype'].apply(categorize_house)"
   ]
  },
  {
   "cell_type": "markdown",
   "metadata": {},
   "source": [
    "## KNN"
   ]
  },
  {
   "cell_type": "code",
   "execution_count": null,
   "metadata": {},
   "outputs": [],
   "source": [
    "# X_test = test[['is_appartment','area','lat','lon','foto_amount','energy_value','house_type']].copy()\n",
    "\n",
    "# X_test_encoded = pd.get_dummies(X_test, columns=['house_type'])\n",
    "\n",
    "# scaler = StandardScaler()\n",
    "# X_test_encoded[['area','lat','lon','energy_value','foto_amount']] = scaler.fit_transform(X_test_encoded[['area','lat','lon','energy_value','foto_amount']])\n",
    "# X_test_encoded.isna().apply(sum)\n",
    "# y_test = test['price'].copy()\n",
    "# y_pred_test = neigh_model_final.predict(X_test_encoded)"
   ]
  },
  {
   "cell_type": "markdown",
   "metadata": {},
   "source": [
    "## XGBoost"
   ]
  },
  {
   "cell_type": "code",
   "execution_count": null,
   "metadata": {},
   "outputs": [],
   "source": []
  },
  {
   "cell_type": "markdown",
   "metadata": {},
   "source": [
    "## Error bars"
   ]
  },
  {
   "cell_type": "code",
   "execution_count": 615,
   "metadata": {},
   "outputs": [],
   "source": [
    "mean_error_1=(y_pred_test/y_test-1).mean()\n",
    "error_bound_1 = (y_pred_test/y_test-1).std()/len(y_pred_test)**(1/2)*1.96\n",
    "\n",
    "mean_error_2=abs(y_pred_test/y_test-1).mean()\n",
    "error_bound_2 = abs(y_pred_test/y_test-1).std()/(len(y_pred_test)**(1/2))*1.96\n",
    "\n",
    "mean_error_3=((y_pred_test-y_test)**2).mean()**(1/2)\n",
    "error_bound_3 = abs(y_pred_test-y_test).std()/(len(y_pred_test)**(1/2))*1.96"
   ]
  },
  {
   "cell_type": "markdown",
   "metadata": {},
   "source": [
    "# Submission metrics"
   ]
  },
  {
   "cell_type": "code",
   "execution_count": 510,
   "metadata": {},
   "outputs": [],
   "source": [
    "y_pred_final = pd.DataFrame()\n",
    "y_pred_final['id']=test['id']\n",
    "y_pred_final['lower']=y_pred_test*(1-mean_error_1-error_bound_1)\n",
    "y_pred_final['upper']=y_pred_test*(1-mean_error_1+error_bound_1)\n",
    "y_pred_final['pred']=y_pred_test*(1-mean_error_1)\n",
    "\n",
    "y_pred_final.to_csv(f\"xgb_simple_1.csv\", index=False)"
   ]
  },
  {
   "cell_type": "code",
   "execution_count": 513,
   "metadata": {},
   "outputs": [],
   "source": [
    "y_pred_final = pd.DataFrame()\n",
    "y_pred_final['id']=test['id']\n",
    "y_pred_final['lower']=y_pred_test*(1-mean_error_2-error_bound_2)\n",
    "y_pred_final['upper']=y_pred_test*(1+mean_error_2+error_bound_2)\n",
    "y_pred_final['pred']=y_pred_test\n",
    "\n",
    "y_pred_final.to_csv(f\"xgb_simple_2.csv\", index=False)"
   ]
  },
  {
   "cell_type": "code",
   "execution_count": 512,
   "metadata": {},
   "outputs": [],
   "source": [
    "y_pred_final = pd.DataFrame()\n",
    "y_pred_final['id']=test['id']\n",
    "y_pred_final['lower']=np.maximum(y_pred_test-mean_error_3-error_bound_3,0)\n",
    "y_pred_final['upper']=y_pred_test+mean_error_3+error_bound_3\n",
    "y_pred_final['pred']=y_pred_test\n",
    "\n",
    "y_pred_final.to_csv(f\"xgb_simple_3.csv\", index=False)"
   ]
  }
 ],
 "metadata": {
  "kernelspec": {
   "display_name": "Python 3",
   "language": "python",
   "name": "python3"
  },
  "language_info": {
   "codemirror_mode": {
    "name": "ipython",
    "version": 3
   },
   "file_extension": ".py",
   "mimetype": "text/x-python",
   "name": "python",
   "nbconvert_exporter": "python",
   "pygments_lexer": "ipython3",
   "version": "3.12.0"
  }
 },
 "nbformat": 4,
 "nbformat_minor": 2
}
