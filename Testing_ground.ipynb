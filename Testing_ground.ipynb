{
 "cells": [
  {
   "cell_type": "code",
   "execution_count": 1,
   "id": "bb924830",
   "metadata": {},
   "outputs": [],
   "source": [
    "import pandas as pd\n",
    "import matplotlib.pyplot as plt\n",
    "import numpy as np\n",
    "import seaborn as sns"
   ]
  },
  {
   "cell_type": "code",
   "execution_count": 3,
   "id": "27b86a68",
   "metadata": {},
   "outputs": [],
   "source": [
    "from Own_imputers import PriorityGroupImputer"
   ]
  },
  {
   "cell_type": "code",
   "execution_count": 6,
   "id": "15cd8fae",
   "metadata": {},
   "outputs": [
    {
     "name": "stdout",
     "output_type": "stream",
     "text": [
      "     A    B    C\n",
      "0  1.0  5.0  1.0\n",
      "1  2.0  8.0  1.0\n",
      "2  2.5  8.0  1.0\n",
      "3  4.0  8.0  1.0\n",
      "4  2.5  9.0  1.0\n"
     ]
    }
   ],
   "source": [
    "# Sample data\n",
    "data = {\n",
    "    'A': [1, 2, np.nan, 4, np.nan],\n",
    "    'B': [5, np.nan, np.nan, 8, 9],\n",
    "    'C' : [1,np.nan,1,1,1]\n",
    "}\n",
    "df = pd.DataFrame(data)\n",
    "\n",
    "# Impute global median\n",
    "imputer = PriorityGroupImputer(target_cols=['A', 'B', 'C'], priority_groups = {1:['C']}, strategy = 'median')\n",
    "df_imputed = imputer.fit_transform(df)\n",
    "print(df_imputed)"
   ]
  }
 ],
 "metadata": {
  "kernelspec": {
   "display_name": "Python 3",
   "language": "python",
   "name": "python3"
  },
  "language_info": {
   "codemirror_mode": {
    "name": "ipython",
    "version": 3
   },
   "file_extension": ".py",
   "mimetype": "text/x-python",
   "name": "python",
   "nbconvert_exporter": "python",
   "pygments_lexer": "ipython3",
   "version": "3.12.0"
  }
 },
 "nbformat": 4,
 "nbformat_minor": 5
}
